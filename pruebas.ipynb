{
 "cells": [
  {
   "cell_type": "code",
   "execution_count": 43,
   "metadata": {},
   "outputs": [],
   "source": [
    "import pandas as pd\n",
    "import preguntas\n",
    "\n",
    "tbl0 = pd.read_csv(\"tbl0.tsv\", sep=\"\\t\")\n",
    "tbl1 = pd.read_csv(\"tbl1.tsv\", sep=\"\\t\")\n",
    "tbl2 = pd.read_csv(\"tbl2.tsv\", sep=\"\\t\")\n",
    "\n"
   ]
  },
  {
   "cell_type": "code",
   "execution_count": 44,
   "metadata": {},
   "outputs": [],
   "source": [
    "# tbl0[\"year\"] = tbl0[\"_c3\"].str[:4]\n",
    "# tbl0"
   ]
  },
  {
   "cell_type": "code",
   "execution_count": 49,
   "metadata": {},
   "outputs": [
    {
     "name": "stdout",
     "output_type": "stream",
     "text": [
      "Evaluando test_09...\n",
      "Parece que todo está correcto!\n"
     ]
    }
   ],
   "source": [
    "tbl0[\"year\"] = tbl0[\"_c3\"].str[:4]\n",
    "\n",
    "def test_09():    \n",
    "    assert tbl0.columns.tolist() == [\n",
    "        \"_c0\",\n",
    "        \"_c1\",\n",
    "        \"_c2\",\n",
    "        \"_c3\",\n",
    "        \"year\",\n",
    "    ]\n",
    "    assert tbl0.shape == (40, 5)\n",
    "    assert tbl0.year.head().tolist() == [\n",
    "        \"1999\",\n",
    "        \"1999\",\n",
    "        \"1998\",\n",
    "        \"1999\",\n",
    "        \"1999\",\n",
    "    ]\n",
    "    assert tbl0.year.tail().tolist() == [\n",
    "        \"1999\",\n",
    "        \"1997\",\n",
    "        \"1997\",\n",
    "        \"1999\",\n",
    "        \"1998\",\n",
    "    ]\n",
    "\n",
    "test_09\n",
    "print(\"Evaluando test_09...\")\n",
    "test_09()\n",
    "print(\"Parece que todo está correcto!\")"
   ]
  },
  {
   "cell_type": "code",
   "execution_count": 46,
   "metadata": {},
   "outputs": [
    {
     "name": "stdout",
     "output_type": "stream",
     "text": [
      "['_c0', '_c1', '_c2', '_c3', 'year']\n",
      "(40, 5)\n",
      "['1999', '1999', '1998', '1999', '1999']\n",
      "['1999', '1997', '1997', '1999', '1998']\n"
     ]
    }
   ],
   "source": [
    "# tabla = tbl0.copy()\n",
    "# tabla['year'] = tabla['_c3'].str[:4].astype(int)\n",
    "\n",
    "# tbl0[\"year\"] = tbl0[\"_c3\"].str[:4]\n",
    "# tbl0[\"year\"] = tbl0[\"_c3\"].str.split(\"-\").str[0].astype(\"int64\")\n",
    "\n",
    "tabla = tbl0.copy()\n",
    "# tabla['year'] = tabla['_c3'].str[:4].astype(int)\n",
    "tabla[\"year\"] = tabla[\"_c3\"].str[:4]\n",
    "# tabla[\"year\"] = tabla[\"_c3\"].str.split(\"-\").str.get(0)\n",
    "\n",
    "print(tabla.columns.tolist())\n",
    "\n",
    "print(tabla.shape)\n",
    "\n",
    "print(tabla.year.head().tolist())\n",
    "\n",
    "print(tabla.year.tail().tolist())"
   ]
  },
  {
   "cell_type": "code",
   "execution_count": 47,
   "metadata": {},
   "outputs": [],
   "source": [
    "# tbl0[\"_c2\"] = tbl0[\"_c2\"].astype(str)\n",
    "# tabla = tbl0.groupby(\"_c1\")[\"_c2\"].apply(lambda x: \":\".join(x)).reset_index()\n",
    "# tabla[\"_c2\"] = tabla[\"_c2\"].str.split(\":\").apply(sorted).apply(lambda x: \":\".join(x))\n",
    "# tabla.set_index(\"_c1\", inplace=True)\n",
    "\n",
    "# tabla"
   ]
  },
  {
   "cell_type": "code",
   "execution_count": 48,
   "metadata": {},
   "outputs": [],
   "source": [
    "# tbl2[\"_c5b\"] = tbl2[\"_c5b\"].astype(\"int64\")\n",
    "# suma = tbl0.merge(tbl2, on=\"_c0\").groupby(\"_c1\")[\"_c5b\"].sum()\n",
    "# suma"
   ]
  }
 ],
 "metadata": {
  "kernelspec": {
   "display_name": ".venv",
   "language": "python",
   "name": "python3"
  },
  "language_info": {
   "codemirror_mode": {
    "name": "ipython",
    "version": 3
   },
   "file_extension": ".py",
   "mimetype": "text/x-python",
   "name": "python",
   "nbconvert_exporter": "python",
   "pygments_lexer": "ipython3",
   "version": "3.9.0"
  }
 },
 "nbformat": 4,
 "nbformat_minor": 2
}
